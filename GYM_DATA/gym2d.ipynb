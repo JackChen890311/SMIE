{
 "cells": [
  {
   "cell_type": "code",
   "execution_count": 2,
   "metadata": {},
   "outputs": [
    {
     "name": "stdout",
     "output_type": "stream",
     "text": [
      "dict_keys(['split', 'annotations'])\n"
     ]
    }
   ],
   "source": [
    "import os\n",
    "import numpy as np\n",
    "import pickle as pk\n",
    "\n",
    "with open('gym_2d.pkl','rb') as f:\n",
    "    data = pk.load(f)\n",
    "print(data.keys())"
   ]
  },
  {
   "cell_type": "code",
   "execution_count": 3,
   "metadata": {},
   "outputs": [
    {
     "name": "stdout",
     "output_type": "stream",
     "text": [
      "dict_keys(['frame_dir', 'label', 'img_shape', 'original_shape', 'total_frames', 'keypoint', 'keypoint_score'])\n",
      "43\n",
      "24\n",
      "(1, 24, 17, 2)\n"
     ]
    }
   ],
   "source": [
    "i = 200\n",
    "print(data['annotations'][i].keys())\n",
    "print(data['annotations'][i]['label'])\n",
    "print(data['annotations'][i]['total_frames'])\n",
    "print(data['annotations'][i]['keypoint'].shape)\n",
    "# Data Shape: (1, 24, 17, 2)\n",
    "# people cnt, frame cnt, keypoint cnt, x & y\n",
    "\n",
    "# Target Shape: (40091, 3, 50, 25, 2)\n",
    "# datapoints, x & y & z, frame cnt, keypoint cnt, people cnt"
   ]
  },
  {
   "cell_type": "code",
   "execution_count": 4,
   "metadata": {},
   "outputs": [],
   "source": [
    "# Data Shape: (datapoints, 2, 50, 17, 2)\n",
    "# Target Shape: (datapoints, 3, 50, 25, 2)"
   ]
  },
  {
   "cell_type": "code",
   "execution_count": 21,
   "metadata": {},
   "outputs": [],
   "source": [
    "train_count = len(data['split']['train'])\n",
    "val_count = len(data['split']['val'])\n",
    "assert train_count + val_count == len(data['annotations'])\n",
    "\n",
    "max_body = 2\n",
    "num_joint = 17\n",
    "max_frame = 300\n",
    "train_data = np.zeros((train_count, 2, max_frame, num_joint, max_body))\n",
    "val_data = np.zeros((val_count, 2, max_frame, num_joint, max_body))\n",
    "train_label = np.zeros((train_count))\n",
    "val_label = np.zeros((val_count))"
   ]
  },
  {
   "cell_type": "code",
   "execution_count": 22,
   "metadata": {},
   "outputs": [],
   "source": [
    "train_cnt = 0\n",
    "val_cnt = 0\n",
    "for instance in data['annotations']:\n",
    "    label_ins = int(instance['label'])\n",
    "    kpts_ins = instance['keypoint']\n",
    "    kpts_ins = np.transpose(kpts_ins, (3, 1, 2, 0))\n",
    "    kpts_ins = kpts_ins[:, 0:max_frame, :, :]\n",
    "\n",
    "    if instance['frame_dir'] in data['split']['train']:\n",
    "        train_data[train_cnt, :, 0:kpts_ins.shape[1], :, :] = kpts_ins\n",
    "        train_label[train_cnt] = label_ins\n",
    "        train_cnt += 1\n",
    "    else:\n",
    "        val_data[val_cnt, :, 0:kpts_ins.shape[1], :, :] = kpts_ins\n",
    "        val_label[val_cnt] = label_ins\n",
    "        val_cnt += 1"
   ]
  },
  {
   "cell_type": "code",
   "execution_count": 23,
   "metadata": {},
   "outputs": [],
   "source": [
    "os.makedirs('data', exist_ok=True)\n",
    "np.save('data/train_data.npy', train_data)\n",
    "np.save('data/val_data.npy', val_data)\n",
    "np.save('data/train_label.npy', train_label)\n",
    "np.save('data/val_label.npy', val_label)"
   ]
  },
  {
   "cell_type": "code",
   "execution_count": 24,
   "metadata": {},
   "outputs": [],
   "source": [
    "train_label = list(map(int, list(train_label)))\n",
    "val_label = list(map(int, list(val_label)))\n",
    "with open('data/train_label.pkl', 'wb') as f:\n",
    "    pk.dump([[], train_label], f)\n",
    "with open('data/val_label.pkl', 'wb') as f:\n",
    "    pk.dump([[], val_label], f)"
   ]
  },
  {
   "cell_type": "code",
   "execution_count": null,
   "metadata": {},
   "outputs": [],
   "source": []
  }
 ],
 "metadata": {
  "kernelspec": {
   "display_name": "smie",
   "language": "python",
   "name": "python3"
  },
  "language_info": {
   "codemirror_mode": {
    "name": "ipython",
    "version": 3
   },
   "file_extension": ".py",
   "mimetype": "text/x-python",
   "name": "python",
   "nbconvert_exporter": "python",
   "pygments_lexer": "ipython3",
   "version": "3.10.13"
  }
 },
 "nbformat": 4,
 "nbformat_minor": 2
}
